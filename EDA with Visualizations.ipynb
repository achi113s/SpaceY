{
 "cells": [
  {
   "cell_type": "markdown",
   "id": "4cc08f02",
   "metadata": {},
   "source": [
    "# Introduction\n",
    "\n",
    "In this section of the project I will do some more exploratory data analysis, but this time using visualizations to aid in the exploration.\n",
    "\n",
    "I will only be using the dataset that I scraped from Wikipedia with BeautifulSoup, rather than the dataset from the Space X API because it is larger and more complete."
   ]
  },
  {
   "cell_type": "markdown",
   "id": "d3ac2e93",
   "metadata": {},
   "source": [
    "Start by importing the dataset in a dataframe:"
   ]
  },
  {
   "cell_type": "code",
   "execution_count": null,
   "id": "a7883f69",
   "metadata": {},
   "outputs": [],
   "source": [
    "import pandas as pd\n",
    "import seaborn as sns\n",
    "import numpy as np\n",
    "import matplotlib.pyplot as plt\n",
    "\n",
    "df = pd.read_csv('datasets/launch_data_falcon9_wiki.csv')"
   ]
  }
 ],
 "metadata": {
  "kernelspec": {
   "display_name": "Python 3 (ipykernel)",
   "language": "python",
   "name": "python3"
  },
  "language_info": {
   "codemirror_mode": {
    "name": "ipython",
    "version": 3
   },
   "file_extension": ".py",
   "mimetype": "text/x-python",
   "name": "python",
   "nbconvert_exporter": "python",
   "pygments_lexer": "ipython3",
   "version": "3.9.10"
  }
 },
 "nbformat": 4,
 "nbformat_minor": 5
}
