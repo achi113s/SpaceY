{
 "cells": [
  {
   "cell_type": "markdown",
   "id": "d35a37eb",
   "metadata": {},
   "source": [
    "# Introduction\n",
    "\n",
    "In this section, I'll be performing some exploratory data analysis on the data on the Space X Launches that I scraped from Wikipedia. The data analysis will be done with SQL this time. To use SQL to query the data, I will connect to a DB file I created and then load the CSV file into the database as a new table using Pandas.\n",
    "\n",
    "## Setting Up Environment"
   ]
  },
  {
   "cell_type": "code",
   "execution_count": 1,
   "id": "20c9c1c6",
   "metadata": {},
   "outputs": [],
   "source": [
    "%load_ext sql"
   ]
  },
  {
   "cell_type": "code",
   "execution_count": 2,
   "id": "aa367821",
   "metadata": {},
   "outputs": [],
   "source": [
    "import sqlite3\n",
    "import csv\n",
    "import pandas as pd\n",
    "import numpy as np\n",
    "import sqlalchemy\n",
    "\n",
    "con = sqlite3.connect(\"datasets/SpaceXDB.db\")\n",
    "cur = con.cursor()"
   ]
  },
  {
   "cell_type": "code",
   "execution_count": 3,
   "id": "6e8859be",
   "metadata": {},
   "outputs": [],
   "source": [
    "%sql sqlite:///datasets/SpaceXDB.db"
   ]
  },
  {
   "cell_type": "code",
   "execution_count": 4,
   "id": "0c336c07",
   "metadata": {},
   "outputs": [
    {
     "data": {
      "text/plain": [
       "121"
      ]
     },
     "execution_count": 4,
     "metadata": {},
     "output_type": "execute_result"
    }
   ],
   "source": [
    "data = 'datasets/launch_data_falcon9_wiki.csv'\n",
    "df = pd.read_csv(data)\n",
    "\n",
    "df['Payload mass'] = pd.to_numeric(df['Payload mass'])  # change mass from text to number\n",
    "df['Datetime'] = pd.to_datetime(df['Datetime'], dayfirst=True)  # change datetime to datetime format\n",
    "\n",
    "# load the dataframe into SpaceXDB\n",
    "df.to_sql(\"SPACEXTBL\", con, if_exists='replace', index=False, method=\"multi\")"
   ]
  },
  {
   "cell_type": "markdown",
   "id": "91d8b852",
   "metadata": {},
   "source": [
    "## Querying the Database with SQL\n",
    "\n",
    "Now the database is set up and the table has been loaded in.\n",
    "\n",
    "### Task 1\n",
    "\n",
    "##### Display the names of the unique launch sites  in the space mission."
   ]
  },
  {
   "cell_type": "code",
   "execution_count": 5,
   "id": "ab47f922",
   "metadata": {
    "scrolled": true
   },
   "outputs": [
    {
     "name": "stdout",
     "output_type": "stream",
     "text": [
      " * sqlite:///datasets/SpaceXDB.db\n",
      "Done.\n"
     ]
    },
    {
     "data": {
      "text/html": [
       "<table>\n",
       "    <tr>\n",
       "        <th>Launch site</th>\n",
       "    </tr>\n",
       "    <tr>\n",
       "        <td>CCSFS SLC-40</td>\n",
       "    </tr>\n",
       "    <tr>\n",
       "        <td>VAFB SLC-4E</td>\n",
       "    </tr>\n",
       "    <tr>\n",
       "        <td>KSC LC-39A</td>\n",
       "    </tr>\n",
       "</table>"
      ],
      "text/plain": [
       "[('CCSFS SLC-40',), ('VAFB SLC-4E',), ('KSC LC-39A',)]"
      ]
     },
     "execution_count": 5,
     "metadata": {},
     "output_type": "execute_result"
    }
   ],
   "source": [
    "%%sql\n",
    "SELECT DISTINCT \"Launch site\"\n",
    "FROM SPACEXTBL;"
   ]
  },
  {
   "cell_type": "markdown",
   "id": "9efb0725",
   "metadata": {},
   "source": [
    "### Task 2\n",
    "\n",
    "##### Display 5 records where launch sites begin with the string 'CCA'\n",
    "\n",
    "Cape Canaveral Space Force Station used to be called Cape Canaveral Air Force Station. I changed all of them to be \"Space Force Station\" for consistency."
   ]
  },
  {
   "cell_type": "code",
   "execution_count": 6,
   "id": "086d0a75",
   "metadata": {},
   "outputs": [
    {
     "name": "stdout",
     "output_type": "stream",
     "text": [
      " * sqlite:///datasets/SpaceXDB.db\n",
      "Done.\n"
     ]
    },
    {
     "data": {
      "text/html": [
       "<table>\n",
       "    <tr>\n",
       "        <th>Flight No.</th>\n",
       "        <th>Launch site</th>\n",
       "        <th>Payload</th>\n",
       "        <th>Payload mass</th>\n",
       "        <th>Orbit</th>\n",
       "        <th>Customer</th>\n",
       "        <th>Launch outcome</th>\n",
       "        <th>Version Booster</th>\n",
       "        <th>Booster landing</th>\n",
       "        <th>Date</th>\n",
       "        <th>Time</th>\n",
       "        <th>Datetime</th>\n",
       "    </tr>\n",
       "    <tr>\n",
       "        <td>1</td>\n",
       "        <td>CCSFS SLC-40</td>\n",
       "        <td>Dragon Spacecraft Qualification Unit</td>\n",
       "        <td>0</td>\n",
       "        <td>LEO</td>\n",
       "        <td>SpaceX</td>\n",
       "        <td>Success</td>\n",
       "        <td>F9 v1.0B0003.1</td>\n",
       "        <td>Failure (parachute)</td>\n",
       "        <td>4 June 2010</td>\n",
       "        <td>18:45</td>\n",
       "        <td>2010-06-04 18:45:00</td>\n",
       "    </tr>\n",
       "    <tr>\n",
       "        <td>2</td>\n",
       "        <td>CCSFS SLC-40</td>\n",
       "        <td>Dragon</td>\n",
       "        <td>0</td>\n",
       "        <td>LEO</td>\n",
       "        <td>NASA (COTS) NRO</td>\n",
       "        <td>Success</td>\n",
       "        <td>F9 v1.0B0004.1</td>\n",
       "        <td>Failure (parachute)</td>\n",
       "        <td>8 December 2010</td>\n",
       "        <td>15:43</td>\n",
       "        <td>2010-12-08 15:43:00</td>\n",
       "    </tr>\n",
       "    <tr>\n",
       "        <td>3</td>\n",
       "        <td>CCSFS SLC-40</td>\n",
       "        <td>Dragon</td>\n",
       "        <td>525</td>\n",
       "        <td>LEO</td>\n",
       "        <td>NASA (COTS)</td>\n",
       "        <td>Success</td>\n",
       "        <td>F9 v1.0B0005.1</td>\n",
       "        <td>No attempt</td>\n",
       "        <td>22 May 2012</td>\n",
       "        <td>07:44</td>\n",
       "        <td>2012-05-22 07:44:00</td>\n",
       "    </tr>\n",
       "    <tr>\n",
       "        <td>4</td>\n",
       "        <td>CCSFS SLC-40</td>\n",
       "        <td>SpaceX CRS-1</td>\n",
       "        <td>4700</td>\n",
       "        <td>LEO</td>\n",
       "        <td>NASA (CRS)</td>\n",
       "        <td>Success</td>\n",
       "        <td>F9 v1.0B0006.1</td>\n",
       "        <td>No attempt</td>\n",
       "        <td>8 October 2012</td>\n",
       "        <td>00:35</td>\n",
       "        <td>2012-10-08 00:35:00</td>\n",
       "    </tr>\n",
       "    <tr>\n",
       "        <td>5</td>\n",
       "        <td>CCSFS SLC-40</td>\n",
       "        <td>SpaceX CRS-2</td>\n",
       "        <td>4877</td>\n",
       "        <td>LEO</td>\n",
       "        <td>NASA (CRS)</td>\n",
       "        <td>Success</td>\n",
       "        <td>F9 v1.0B0007.1</td>\n",
       "        <td>No attempt</td>\n",
       "        <td>1 March 2013</td>\n",
       "        <td>15:10</td>\n",
       "        <td>2013-03-01 15:10:00</td>\n",
       "    </tr>\n",
       "</table>"
      ],
      "text/plain": [
       "[(1, 'CCSFS SLC-40', 'Dragon Spacecraft Qualification Unit', 0, 'LEO', 'SpaceX', 'Success', 'F9 v1.0B0003.1', 'Failure (parachute)', '4 June 2010', '18:45', '2010-06-04 18:45:00'),\n",
       " (2, 'CCSFS SLC-40', 'Dragon', 0, 'LEO', 'NASA (COTS) NRO', 'Success', 'F9 v1.0B0004.1', 'Failure (parachute)', '8 December 2010', '15:43', '2010-12-08 15:43:00'),\n",
       " (3, 'CCSFS SLC-40', 'Dragon', 525, 'LEO', 'NASA (COTS)', 'Success', 'F9 v1.0B0005.1', 'No attempt', '22 May 2012', '07:44', '2012-05-22 07:44:00'),\n",
       " (4, 'CCSFS SLC-40', 'SpaceX CRS-1', 4700, 'LEO', 'NASA (CRS)', 'Success', 'F9 v1.0B0006.1', 'No attempt', '8 October 2012', '00:35', '2012-10-08 00:35:00'),\n",
       " (5, 'CCSFS SLC-40', 'SpaceX CRS-2', 4877, 'LEO', 'NASA (CRS)', 'Success', 'F9 v1.0B0007.1', 'No attempt', '1 March 2013', '15:10', '2013-03-01 15:10:00')]"
      ]
     },
     "execution_count": 6,
     "metadata": {},
     "output_type": "execute_result"
    }
   ],
   "source": [
    "%%sql\n",
    "SELECT * \n",
    "FROM SPACEXTBL\n",
    "WHERE \"Launch site\"\n",
    "LIKE \"CCS%\"\n",
    "LIMIT 5;"
   ]
  },
  {
   "cell_type": "markdown",
   "id": "f782ba80",
   "metadata": {},
   "source": [
    "### Task 3\n",
    "\n",
    "##### Display the total payload mass carried by boosters launched by NASA (CRS)"
   ]
  },
  {
   "cell_type": "code",
   "execution_count": 7,
   "id": "df5e468b",
   "metadata": {},
   "outputs": [
    {
     "name": "stdout",
     "output_type": "stream",
     "text": [
      " * sqlite:///datasets/SpaceXDB.db\n",
      "Done.\n"
     ]
    },
    {
     "data": {
      "text/html": [
       "<table>\n",
       "    <tr>\n",
       "        <th>Customer</th>\n",
       "        <th>Total_Payload_Carried</th>\n",
       "    </tr>\n",
       "    <tr>\n",
       "        <td>NASA (CRS)</td>\n",
       "        <td>59941</td>\n",
       "    </tr>\n",
       "</table>"
      ],
      "text/plain": [
       "[('NASA (CRS)', 59941)]"
      ]
     },
     "execution_count": 7,
     "metadata": {},
     "output_type": "execute_result"
    }
   ],
   "source": [
    "%%sql\n",
    "SELECT Customer, SUM(\"Payload mass\") as Total_Payload_Carried\n",
    "FROM SPACEXTBL\n",
    "GROUP BY Customer\n",
    "HAVING Customer='NASA (CRS)';"
   ]
  },
  {
   "cell_type": "markdown",
   "id": "5ab5aa4d",
   "metadata": {},
   "source": [
    "### Task 4\n",
    "\n",
    "##### Display average payload mass carried by booster version F9 v1.1"
   ]
  },
  {
   "cell_type": "code",
   "execution_count": 8,
   "id": "414c7673",
   "metadata": {},
   "outputs": [
    {
     "name": "stdout",
     "output_type": "stream",
     "text": [
      " * sqlite:///datasets/SpaceXDB.db\n",
      "Done.\n"
     ]
    },
    {
     "data": {
      "text/html": [
       "<table>\n",
       "    <tr>\n",
       "        <th>Avg_Payload_Mass</th>\n",
       "    </tr>\n",
       "    <tr>\n",
       "        <td>2534.6666666666665</td>\n",
       "    </tr>\n",
       "</table>"
      ],
      "text/plain": [
       "[(2534.6666666666665,)]"
      ]
     },
     "execution_count": 8,
     "metadata": {},
     "output_type": "execute_result"
    }
   ],
   "source": [
    "%%sql\n",
    "WITH Boosters AS (\n",
    "    SELECT \"Version Booster\", \"Payload mass\" \n",
    "    FROM SPACEXTBL \n",
    "    WHERE \"Version Booster\"\n",
    "    LIKE 'F9 v1.1%'\n",
    ")\n",
    "\n",
    "SELECT AVG(\"Payload mass\") as Avg_Payload_Mass\n",
    "FROM Boosters;"
   ]
  },
  {
   "cell_type": "markdown",
   "id": "4aa74fa6",
   "metadata": {},
   "source": [
    "### Task 5\n",
    "\n",
    "##### List the date when the first succesful landing outcome in ground pad was acheived.\n",
    "\n",
    "*Hint:Use min function*"
   ]
  },
  {
   "cell_type": "code",
   "execution_count": 9,
   "id": "805e4e16",
   "metadata": {},
   "outputs": [
    {
     "name": "stdout",
     "output_type": "stream",
     "text": [
      " * sqlite:///datasets/SpaceXDB.db\n",
      "Done.\n"
     ]
    },
    {
     "data": {
      "text/html": [
       "<table>\n",
       "    <tr>\n",
       "        <th>First_Success_Ground_Pad</th>\n",
       "    </tr>\n",
       "    <tr>\n",
       "        <td>2015-12-22 01:29:00</td>\n",
       "    </tr>\n",
       "</table>"
      ],
      "text/plain": [
       "[('2015-12-22 01:29:00',)]"
      ]
     },
     "execution_count": 9,
     "metadata": {},
     "output_type": "execute_result"
    }
   ],
   "source": [
    "%%sql\n",
    "SELECT MIN(Datetime) AS First_Success_Ground_Pad\n",
    "FROM SPACEXTBL\n",
    "WHERE \"Booster landing\"=\"Success (ground pad)\";"
   ]
  },
  {
   "cell_type": "markdown",
   "id": "89379add",
   "metadata": {},
   "source": [
    "### Task 6\n",
    "\n",
    "##### List the names of the boosters which have success in drone ship and have payload mass greater than 4000 but less than 6000"
   ]
  },
  {
   "cell_type": "code",
   "execution_count": 10,
   "id": "03c20a0c",
   "metadata": {},
   "outputs": [
    {
     "name": "stdout",
     "output_type": "stream",
     "text": [
      " * sqlite:///datasets/SpaceXDB.db\n",
      "Done.\n"
     ]
    },
    {
     "data": {
      "text/html": [
       "<table>\n",
       "    <tr>\n",
       "        <th>Version Booster</th>\n",
       "        <th>Launch site</th>\n",
       "        <th>Payload mass</th>\n",
       "        <th>Booster landing</th>\n",
       "    </tr>\n",
       "    <tr>\n",
       "        <td>F9 FT[122]</td>\n",
       "        <td>CCSFS SLC-40</td>\n",
       "        <td>4696</td>\n",
       "        <td>Success (drone ship)</td>\n",
       "    </tr>\n",
       "    <tr>\n",
       "        <td>F9 FT[108]</td>\n",
       "        <td>CCSFS SLC-40</td>\n",
       "        <td>4600</td>\n",
       "        <td>Success (drone ship)</td>\n",
       "    </tr>\n",
       "    <tr>\n",
       "        <td>F9 FT♺[115]</td>\n",
       "        <td>KSC LC-39A</td>\n",
       "        <td>5300</td>\n",
       "        <td>Success (drone ship)</td>\n",
       "    </tr>\n",
       "    <tr>\n",
       "        <td>F9 FTB1031.2</td>\n",
       "        <td>KSC LC-39A</td>\n",
       "        <td>5200</td>\n",
       "        <td>Success (drone ship)</td>\n",
       "    </tr>\n",
       "    <tr>\n",
       "        <td>F9 B5B1046.2</td>\n",
       "        <td>CCSFS SLC-40</td>\n",
       "        <td>5800</td>\n",
       "        <td>Success (drone ship)</td>\n",
       "    </tr>\n",
       "    <tr>\n",
       "        <td>F9 B5B1047.2</td>\n",
       "        <td>KSC LC-39A</td>\n",
       "        <td>5300</td>\n",
       "        <td>Success (drone ship)</td>\n",
       "    </tr>\n",
       "    <tr>\n",
       "        <td>F9 B5B1048.3</td>\n",
       "        <td>CCSFS SLC-40</td>\n",
       "        <td>4850</td>\n",
       "        <td>Success (drone ship)</td>\n",
       "    </tr>\n",
       "    <tr>\n",
       "        <td>F9 B5</td>\n",
       "        <td>CCSFS SLC-40</td>\n",
       "        <td>4311</td>\n",
       "        <td>Success (drone ship)</td>\n",
       "    </tr>\n",
       "    <tr>\n",
       "        <td>F9 B5B1058.2</td>\n",
       "        <td>CCSFS SLC-40</td>\n",
       "        <td>5500</td>\n",
       "        <td>Success (drone ship)</td>\n",
       "    </tr>\n",
       "    <tr>\n",
       "        <td>F9 B5</td>\n",
       "        <td>CCSFS SLC-40</td>\n",
       "        <td>4311</td>\n",
       "        <td>Success (drone ship)</td>\n",
       "    </tr>\n",
       "    <tr>\n",
       "        <td>F9 B5B1058.5</td>\n",
       "        <td>CCSFS SLC-40</td>\n",
       "        <td>5000</td>\n",
       "        <td>Success (drone ship)</td>\n",
       "    </tr>\n",
       "</table>"
      ],
      "text/plain": [
       "[('F9 FT[122]', 'CCSFS SLC-40', 4696, 'Success (drone ship)'),\n",
       " ('F9 FT[108]', 'CCSFS SLC-40', 4600, 'Success (drone ship)'),\n",
       " ('F9 FT♺[115]', 'KSC LC-39A', 5300, 'Success (drone ship)'),\n",
       " ('F9 FTB1031.2', 'KSC LC-39A', 5200, 'Success (drone ship)'),\n",
       " ('F9 B5B1046.2', 'CCSFS SLC-40', 5800, 'Success (drone ship)'),\n",
       " ('F9 B5B1047.2', 'KSC LC-39A', 5300, 'Success (drone ship)'),\n",
       " ('F9 B5B1048.3', 'CCSFS SLC-40', 4850, 'Success (drone ship)'),\n",
       " ('F9 B5', 'CCSFS SLC-40', 4311, 'Success (drone ship)'),\n",
       " ('F9 B5B1058.2', 'CCSFS SLC-40', 5500, 'Success (drone ship)'),\n",
       " ('F9 B5', 'CCSFS SLC-40', 4311, 'Success (drone ship)'),\n",
       " ('F9 B5B1058.5', 'CCSFS SLC-40', 5000, 'Success (drone ship)')]"
      ]
     },
     "execution_count": 10,
     "metadata": {},
     "output_type": "execute_result"
    }
   ],
   "source": [
    "%%sql\n",
    "SELECT \"Version Booster\", \"Launch site\", \"Payload mass\", \"Booster landing\"\n",
    "FROM SPACEXTBL\n",
    "WHERE \"Booster landing\"=\"Success (drone ship)\" AND (\"Payload mass\" > 4000 AND \"Payload mass\" < 6000);"
   ]
  },
  {
   "cell_type": "markdown",
   "id": "46ace1ec",
   "metadata": {},
   "source": [
    "### Task 7\n",
    "\n",
    "##### List the total number of successful and failure mission outcomes"
   ]
  },
  {
   "cell_type": "code",
   "execution_count": 11,
   "id": "59aae430",
   "metadata": {},
   "outputs": [
    {
     "name": "stdout",
     "output_type": "stream",
     "text": [
      " * sqlite:///datasets/SpaceXDB.db\n",
      "Done.\n"
     ]
    },
    {
     "data": {
      "text/html": [
       "<table>\n",
       "    <tr>\n",
       "        <th>Launch outcome</th>\n",
       "        <th>Count</th>\n",
       "    </tr>\n",
       "    <tr>\n",
       "        <td>Failure</td>\n",
       "        <td>1</td>\n",
       "    </tr>\n",
       "    <tr>\n",
       "        <td>Success</td>\n",
       "        <td>120</td>\n",
       "    </tr>\n",
       "</table>"
      ],
      "text/plain": [
       "[('Failure', 1), ('Success', 120)]"
      ]
     },
     "execution_count": 11,
     "metadata": {},
     "output_type": "execute_result"
    }
   ],
   "source": [
    "%%sql\n",
    "SELECT \"Launch outcome\", COUNT(*) AS \"Count\"\n",
    "FROM SPACEXTBL\n",
    "GROUP BY \"Launch outcome\";"
   ]
  },
  {
   "cell_type": "markdown",
   "id": "c6e6f64d",
   "metadata": {},
   "source": [
    "### Task 8\n",
    "\n",
    "##### List the   names of the booster_versions which have carried the maximum payload mass. Use a subquery"
   ]
  },
  {
   "cell_type": "code",
   "execution_count": 12,
   "id": "3afb1be2",
   "metadata": {},
   "outputs": [
    {
     "name": "stdout",
     "output_type": "stream",
     "text": [
      " * sqlite:///datasets/SpaceXDB.db\n",
      "Done.\n"
     ]
    },
    {
     "data": {
      "text/html": [
       "<table>\n",
       "    <tr>\n",
       "        <th>Version Booster</th>\n",
       "        <th>Payload mass</th>\n",
       "    </tr>\n",
       "    <tr>\n",
       "        <td>F9 B5B1048.4</td>\n",
       "        <td>15600</td>\n",
       "    </tr>\n",
       "    <tr>\n",
       "        <td>F9 B5B1049.4</td>\n",
       "        <td>15600</td>\n",
       "    </tr>\n",
       "    <tr>\n",
       "        <td>F9 B5B1051.3</td>\n",
       "        <td>15600</td>\n",
       "    </tr>\n",
       "    <tr>\n",
       "        <td>F9 B5B1056.4</td>\n",
       "        <td>15600</td>\n",
       "    </tr>\n",
       "    <tr>\n",
       "        <td>F9 B5B1048.5</td>\n",
       "        <td>15600</td>\n",
       "    </tr>\n",
       "    <tr>\n",
       "        <td>F9 B5B1051.4</td>\n",
       "        <td>15600</td>\n",
       "    </tr>\n",
       "    <tr>\n",
       "        <td>F9 B5B1049.5</td>\n",
       "        <td>15600</td>\n",
       "    </tr>\n",
       "    <tr>\n",
       "        <td>F9 B5B1060.2</td>\n",
       "        <td>15600</td>\n",
       "    </tr>\n",
       "    <tr>\n",
       "        <td>F9 B5B1058.3</td>\n",
       "        <td>15600</td>\n",
       "    </tr>\n",
       "    <tr>\n",
       "        <td>F9 B5B1051.6</td>\n",
       "        <td>15600</td>\n",
       "    </tr>\n",
       "    <tr>\n",
       "        <td>F9 B5B1060.3</td>\n",
       "        <td>15600</td>\n",
       "    </tr>\n",
       "    <tr>\n",
       "        <td>F9 B5 ♺[590]</td>\n",
       "        <td>15600</td>\n",
       "    </tr>\n",
       "    <tr>\n",
       "        <td>F9 B5B1051.8</td>\n",
       "        <td>15600</td>\n",
       "    </tr>\n",
       "    <tr>\n",
       "        <td>F9 B5 ♺[624]</td>\n",
       "        <td>15600</td>\n",
       "    </tr>\n",
       "    <tr>\n",
       "        <td>F9 B5 ♺</td>\n",
       "        <td>15600</td>\n",
       "    </tr>\n",
       "    <tr>\n",
       "        <td>F9 B5 ♺[634]</td>\n",
       "        <td>15600</td>\n",
       "    </tr>\n",
       "    <tr>\n",
       "        <td>F9 B5 ♺[638]</td>\n",
       "        <td>15600</td>\n",
       "    </tr>\n",
       "    <tr>\n",
       "        <td>F9 B5B1060.6</td>\n",
       "        <td>15600</td>\n",
       "    </tr>\n",
       "    <tr>\n",
       "        <td>F9 B5B1060.7</td>\n",
       "        <td>15600</td>\n",
       "    </tr>\n",
       "    <tr>\n",
       "        <td>F9 B5B1049.9</td>\n",
       "        <td>15600</td>\n",
       "    </tr>\n",
       "    <tr>\n",
       "        <td>F9 B5B1051.10</td>\n",
       "        <td>15600</td>\n",
       "    </tr>\n",
       "    <tr>\n",
       "        <td>F9 B5B1063.2</td>\n",
       "        <td>15600</td>\n",
       "    </tr>\n",
       "</table>"
      ],
      "text/plain": [
       "[('F9 B5B1048.4', 15600),\n",
       " ('F9 B5B1049.4', 15600),\n",
       " ('F9 B5B1051.3', 15600),\n",
       " ('F9 B5B1056.4', 15600),\n",
       " ('F9 B5B1048.5', 15600),\n",
       " ('F9 B5B1051.4', 15600),\n",
       " ('F9 B5B1049.5', 15600),\n",
       " ('F9 B5B1060.2', 15600),\n",
       " ('F9 B5B1058.3', 15600),\n",
       " ('F9 B5B1051.6', 15600),\n",
       " ('F9 B5B1060.3', 15600),\n",
       " ('F9 B5 ♺[590]', 15600),\n",
       " ('F9 B5B1051.8', 15600),\n",
       " ('F9 B5 ♺[624]', 15600),\n",
       " ('F9 B5 ♺', 15600),\n",
       " ('F9 B5 ♺[634]', 15600),\n",
       " ('F9 B5 ♺[638]', 15600),\n",
       " ('F9 B5B1060.6', 15600),\n",
       " ('F9 B5B1060.7', 15600),\n",
       " ('F9 B5B1049.9', 15600),\n",
       " ('F9 B5B1051.10', 15600),\n",
       " ('F9 B5B1063.2', 15600)]"
      ]
     },
     "execution_count": 12,
     "metadata": {},
     "output_type": "execute_result"
    }
   ],
   "source": [
    "%%sql\n",
    "SELECT DISTINCT \"Version Booster\", \"Payload mass\"\n",
    "FROM SPACEXTBL\n",
    "WHERE \"Payload mass\"=(SELECT MAX(\"Payload mass\") FROM SPACEXTBL);"
   ]
  },
  {
   "cell_type": "markdown",
   "id": "32c0a79b",
   "metadata": {},
   "source": [
    "### Task 9\n",
    "\n",
    "##### List the records which will display the month names, failure landing_outcomes in drone ship, booster versions, launch_site for the months in year 2015.\n",
    "\n",
    "**Note: SQLLite does not support monthnames. So you need to use  substr(Date, 6, 2) as month to get the months and substr(Date,1,4)='2015' for year.**"
   ]
  },
  {
   "cell_type": "code",
   "execution_count": 13,
   "id": "0688e6ac",
   "metadata": {},
   "outputs": [
    {
     "name": "stdout",
     "output_type": "stream",
     "text": [
      " * sqlite:///datasets/SpaceXDB.db\n",
      "Done.\n"
     ]
    },
    {
     "data": {
      "text/html": [
       "<table>\n",
       "    <tr>\n",
       "        <th>Month</th>\n",
       "        <th>Year</th>\n",
       "        <th>Booster landing</th>\n",
       "        <th>Version Booster</th>\n",
       "        <th>Launch site</th>\n",
       "    </tr>\n",
       "    <tr>\n",
       "        <td>01</td>\n",
       "        <td>2015</td>\n",
       "        <td>Failure  (drone ship)</td>\n",
       "        <td>F9 v1.1[8]</td>\n",
       "        <td>CCSFS SLC-40</td>\n",
       "    </tr>\n",
       "    <tr>\n",
       "        <td>04</td>\n",
       "        <td>2015</td>\n",
       "        <td>Failure (drone ship)</td>\n",
       "        <td>F9 v1.1[8]</td>\n",
       "        <td>CCSFS SLC-40</td>\n",
       "    </tr>\n",
       "</table>"
      ],
      "text/plain": [
       "[('01', '2015', 'Failure  (drone ship)', 'F9 v1.1[8]', 'CCSFS SLC-40'),\n",
       " ('04', '2015', 'Failure (drone ship)', 'F9 v1.1[8]', 'CCSFS SLC-40')]"
      ]
     },
     "execution_count": 13,
     "metadata": {},
     "output_type": "execute_result"
    }
   ],
   "source": [
    "%%sql\n",
    "SELECT substr(Datetime, 6, 2) AS \"Month\", substr(Datetime,1,4) AS \"Year\", \"Booster landing\", \"Version Booster\", \"Launch site\" \n",
    "FROM SPACEXTBL\n",
    "WHERE substr(Datetime,1,4)='2015' AND \"Booster landing\" LIKE \"Failure%\";"
   ]
  },
  {
   "cell_type": "markdown",
   "id": "221f21ac",
   "metadata": {},
   "source": [
    "### Task 10\n",
    "\n",
    "##### Rank the  count of  successful landing_outcomes between the date 04-06-2010 and 20-03-2017 in descending order."
   ]
  },
  {
   "cell_type": "code",
   "execution_count": 14,
   "id": "bc4c19eb",
   "metadata": {},
   "outputs": [
    {
     "name": "stdout",
     "output_type": "stream",
     "text": [
      " * sqlite:///datasets/SpaceXDB.db\n",
      "Done.\n"
     ]
    },
    {
     "data": {
      "text/html": [
       "<table>\n",
       "    <tr>\n",
       "        <th>Booster landing</th>\n",
       "        <th>COUNT</th>\n",
       "    </tr>\n",
       "    <tr>\n",
       "        <td>Success (drone ship)</td>\n",
       "        <td>64</td>\n",
       "    </tr>\n",
       "    <tr>\n",
       "        <td>No attempt</td>\n",
       "        <td>22</td>\n",
       "    </tr>\n",
       "    <tr>\n",
       "        <td>Success (ground pad)</td>\n",
       "        <td>16</td>\n",
       "    </tr>\n",
       "    <tr>\n",
       "        <td>Failure (drone ship)</td>\n",
       "        <td>6</td>\n",
       "    </tr>\n",
       "    <tr>\n",
       "        <td>Controlled (ocean)</td>\n",
       "        <td>5</td>\n",
       "    </tr>\n",
       "    <tr>\n",
       "        <td>Uncontrolled (ocean)</td>\n",
       "        <td>2</td>\n",
       "    </tr>\n",
       "    <tr>\n",
       "        <td>Failure (parachute)</td>\n",
       "        <td>2</td>\n",
       "    </tr>\n",
       "    <tr>\n",
       "        <td>Precluded (drone ship)</td>\n",
       "        <td>1</td>\n",
       "    </tr>\n",
       "    <tr>\n",
       "        <td>Failure  (drone ship)</td>\n",
       "        <td>1</td>\n",
       "    </tr>\n",
       "</table>"
      ],
      "text/plain": [
       "[('Success (drone ship)', 64),\n",
       " ('No attempt', 22),\n",
       " ('Success (ground pad)', 16),\n",
       " ('Failure (drone ship)', 6),\n",
       " ('Controlled (ocean)', 5),\n",
       " ('Uncontrolled (ocean)', 2),\n",
       " ('Failure (parachute)', 2),\n",
       " ('Precluded (drone ship)', 1),\n",
       " ('Failure  (drone ship)', 1)]"
      ]
     },
     "execution_count": 14,
     "metadata": {},
     "output_type": "execute_result"
    }
   ],
   "source": [
    "%%sql\n",
    "SELECT \"Booster landing\", COUNT(*) AS \"COUNT\"\n",
    "FROM SPACEXTBL\n",
    "GROUP BY \"Booster landing\"\n",
    "HAVING Datetime > '2010-04-06' AND Datetime < '2017-03-20'\n",
    "ORDER BY \"COUNT\" DESC; "
   ]
  }
 ],
 "metadata": {
  "kernelspec": {
   "display_name": "Python 3 (ipykernel)",
   "language": "python",
   "name": "python3"
  },
  "language_info": {
   "codemirror_mode": {
    "name": "ipython",
    "version": 3
   },
   "file_extension": ".py",
   "mimetype": "text/x-python",
   "name": "python",
   "nbconvert_exporter": "python",
   "pygments_lexer": "ipython3",
   "version": "3.9.10"
  }
 },
 "nbformat": 4,
 "nbformat_minor": 5
}
