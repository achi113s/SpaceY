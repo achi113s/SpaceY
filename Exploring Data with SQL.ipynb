{
 "cells": [
  {
   "cell_type": "markdown",
   "id": "d35a37eb",
   "metadata": {},
   "source": [
    "# Introduction\n",
    "\n",
    "In this section, I'll be performing some exploratory data analysis on the data on the Space X Launches that I scraped from Wikipedia. The data analysis will be done with SQL this time. To use SQL to query the data, I will connect to a DB file I created and then load the CSV file into the database as a new table using Pandas.\n",
    "\n",
    "## Setting Up Environment"
   ]
  },
  {
   "cell_type": "code",
   "execution_count": 1,
   "id": "20c9c1c6",
   "metadata": {},
   "outputs": [],
   "source": [
    "%load_ext sql"
   ]
  },
  {
   "cell_type": "code",
   "execution_count": 2,
   "id": "aa367821",
   "metadata": {},
   "outputs": [],
   "source": [
    "import sqlite3\n",
    "import csv\n",
    "import pandas as pd\n",
    "import numpy as np\n",
    "import sqlalchemy\n",
    "\n",
    "con = sqlite3.connect(\"datasets/SpaceXDB.db\")\n",
    "cur = con.cursor()"
   ]
  },
  {
   "cell_type": "code",
   "execution_count": 3,
   "id": "6e8859be",
   "metadata": {},
   "outputs": [],
   "source": [
    "%sql sqlite:///datasets/SpaceXDB.db"
   ]
  },
  {
   "cell_type": "code",
   "execution_count": 4,
   "id": "0c336c07",
   "metadata": {},
   "outputs": [
    {
     "data": {
      "text/plain": [
       "122"
      ]
     },
     "execution_count": 4,
     "metadata": {},
     "output_type": "execute_result"
    }
   ],
   "source": [
    "data = 'datasets/launch_data_falcon9_wiki.csv'\n",
    "df = pd.read_csv(data)\n",
    "\n",
    "df.loc['Payload mass'] = pd.to_numeric(df['Payload mass'])\n",
    "\n",
    "# load the dataframe into SpaceXDB\n",
    "df.to_sql(\"SPACEXTBL\", con, if_exists='replace', index=False, method=\"multi\")"
   ]
  },
  {
   "cell_type": "markdown",
   "id": "91d8b852",
   "metadata": {},
   "source": [
    "## Querying the Database with SQL\n",
    "\n",
    "Now the database is set up and the table has been loaded in.\n",
    "\n",
    "### Task 1\n",
    "\n",
    "##### Display the names of the unique launch sites  in the space mission."
   ]
  },
  {
   "cell_type": "code",
   "execution_count": 5,
   "id": "ab47f922",
   "metadata": {
    "scrolled": true
   },
   "outputs": [
    {
     "name": "stdout",
     "output_type": "stream",
     "text": [
      " * sqlite:///datasets/SpaceXDB.db\n",
      "Done.\n"
     ]
    },
    {
     "data": {
      "text/html": [
       "<table>\n",
       "    <tr>\n",
       "        <th>Launch site</th>\n",
       "    </tr>\n",
       "    <tr>\n",
       "        <td>CCSFS SLC-40</td>\n",
       "    </tr>\n",
       "    <tr>\n",
       "        <td>VAFB SLC-4E</td>\n",
       "    </tr>\n",
       "    <tr>\n",
       "        <td>KSC LC-39A</td>\n",
       "    </tr>\n",
       "    <tr>\n",
       "        <td>None</td>\n",
       "    </tr>\n",
       "</table>"
      ],
      "text/plain": [
       "[('CCSFS SLC-40',), ('VAFB SLC-4E',), ('KSC LC-39A',), (None,)]"
      ]
     },
     "execution_count": 5,
     "metadata": {},
     "output_type": "execute_result"
    }
   ],
   "source": [
    "%%sql\n",
    "SELECT DISTINCT \"Launch site\"\n",
    "FROM SPACEXTBL;"
   ]
  },
  {
   "cell_type": "markdown",
   "id": "9efb0725",
   "metadata": {},
   "source": [
    "### Task 2\n",
    "\n",
    "##### Display 5 records where launch sites begin with the string 'CCA'\n",
    "\n",
    "Cape Canaveral Space Force Station used to be called Cape Canaveral Air Force Station. I changed all of them to be \"Space Force Station\" for consistency."
   ]
  },
  {
   "cell_type": "code",
   "execution_count": 6,
   "id": "086d0a75",
   "metadata": {},
   "outputs": [
    {
     "name": "stdout",
     "output_type": "stream",
     "text": [
      " * sqlite:///datasets/SpaceXDB.db\n",
      "Done.\n"
     ]
    },
    {
     "data": {
      "text/html": [
       "<table>\n",
       "    <tr>\n",
       "        <th>Flight No.</th>\n",
       "        <th>Launch site</th>\n",
       "        <th>Payload</th>\n",
       "        <th>Payload mass</th>\n",
       "        <th>Orbit</th>\n",
       "        <th>Customer</th>\n",
       "        <th>Launch outcome</th>\n",
       "        <th>Version Booster</th>\n",
       "        <th>Booster landing</th>\n",
       "        <th>Date</th>\n",
       "        <th>Time</th>\n",
       "    </tr>\n",
       "    <tr>\n",
       "        <td>1.0</td>\n",
       "        <td>CCSFS SLC-40</td>\n",
       "        <td>Dragon Spacecraft Qualification Unit</td>\n",
       "        <td>0.0</td>\n",
       "        <td>LEO</td>\n",
       "        <td>SpaceX</td>\n",
       "        <td>Success</td>\n",
       "        <td>F9 v1.0B0003.1</td>\n",
       "        <td>Failure</td>\n",
       "        <td>4 June 2010</td>\n",
       "        <td>18:45</td>\n",
       "    </tr>\n",
       "    <tr>\n",
       "        <td>2.0</td>\n",
       "        <td>CCSFS SLC-40</td>\n",
       "        <td>Dragon</td>\n",
       "        <td>0.0</td>\n",
       "        <td>LEO</td>\n",
       "        <td>NASA (COTS) NRO</td>\n",
       "        <td>Success</td>\n",
       "        <td>F9 v1.0B0004.1</td>\n",
       "        <td>Failure</td>\n",
       "        <td>8 December 2010</td>\n",
       "        <td>15:43</td>\n",
       "    </tr>\n",
       "    <tr>\n",
       "        <td>3.0</td>\n",
       "        <td>CCSFS SLC-40</td>\n",
       "        <td>Dragon</td>\n",
       "        <td>525.0</td>\n",
       "        <td>LEO</td>\n",
       "        <td>NASA (COTS)</td>\n",
       "        <td>Success</td>\n",
       "        <td>F9 v1.0B0005.1</td>\n",
       "        <td>No attempt</td>\n",
       "        <td>22 May 2012</td>\n",
       "        <td>07:44</td>\n",
       "    </tr>\n",
       "    <tr>\n",
       "        <td>4.0</td>\n",
       "        <td>CCSFS SLC-40</td>\n",
       "        <td>SpaceX CRS-1</td>\n",
       "        <td>4700.0</td>\n",
       "        <td>LEO</td>\n",
       "        <td>NASA (CRS)</td>\n",
       "        <td>Success</td>\n",
       "        <td>F9 v1.0B0006.1</td>\n",
       "        <td>No attempt</td>\n",
       "        <td>8 October 2012</td>\n",
       "        <td>00:35</td>\n",
       "    </tr>\n",
       "    <tr>\n",
       "        <td>5.0</td>\n",
       "        <td>CCSFS SLC-40</td>\n",
       "        <td>SpaceX CRS-2</td>\n",
       "        <td>4877.0</td>\n",
       "        <td>LEO</td>\n",
       "        <td>NASA (CRS)</td>\n",
       "        <td>Success</td>\n",
       "        <td>F9 v1.0B0007.1</td>\n",
       "        <td>No attempt</td>\n",
       "        <td>1 March 2013</td>\n",
       "        <td>15:10</td>\n",
       "    </tr>\n",
       "</table>"
      ],
      "text/plain": [
       "[(1.0, 'CCSFS SLC-40', 'Dragon Spacecraft Qualification Unit', 0.0, 'LEO', 'SpaceX', 'Success', 'F9 v1.0B0003.1', 'Failure', '4 June 2010', '18:45'),\n",
       " (2.0, 'CCSFS SLC-40', 'Dragon', 0.0, 'LEO', 'NASA (COTS) NRO', 'Success', 'F9 v1.0B0004.1', 'Failure', '8 December 2010', '15:43'),\n",
       " (3.0, 'CCSFS SLC-40', 'Dragon', 525.0, 'LEO', 'NASA (COTS)', 'Success', 'F9 v1.0B0005.1', 'No attempt', '22 May 2012', '07:44'),\n",
       " (4.0, 'CCSFS SLC-40', 'SpaceX CRS-1', 4700.0, 'LEO', 'NASA (CRS)', 'Success', 'F9 v1.0B0006.1', 'No attempt', '8 October 2012', '00:35'),\n",
       " (5.0, 'CCSFS SLC-40', 'SpaceX CRS-2', 4877.0, 'LEO', 'NASA (CRS)', 'Success', 'F9 v1.0B0007.1', 'No attempt', '1 March 2013', '15:10')]"
      ]
     },
     "execution_count": 6,
     "metadata": {},
     "output_type": "execute_result"
    }
   ],
   "source": [
    "%%sql\n",
    "SELECT * \n",
    "FROM SPACEXTBL\n",
    "WHERE \"Launch site\"\n",
    "LIKE \"CCS%\"\n",
    "LIMIT 5;"
   ]
  },
  {
   "cell_type": "markdown",
   "id": "f782ba80",
   "metadata": {},
   "source": [
    "### Task 3\n",
    "\n",
    "##### Display the total payload mass carried by boosters launched by NASA (CRS)"
   ]
  },
  {
   "cell_type": "code",
   "execution_count": 11,
   "id": "df5e468b",
   "metadata": {},
   "outputs": [
    {
     "name": "stdout",
     "output_type": "stream",
     "text": [
      " * sqlite:///datasets/SpaceXDB.db\n",
      "Done.\n"
     ]
    },
    {
     "data": {
      "text/html": [
       "<table>\n",
       "    <tr>\n",
       "        <th>Customer</th>\n",
       "        <th>Total_Payload_Carried</th>\n",
       "    </tr>\n",
       "    <tr>\n",
       "        <td>NASA (CRS)</td>\n",
       "        <td>59941.0</td>\n",
       "    </tr>\n",
       "</table>"
      ],
      "text/plain": [
       "[('NASA (CRS)', 59941.0)]"
      ]
     },
     "execution_count": 11,
     "metadata": {},
     "output_type": "execute_result"
    }
   ],
   "source": [
    "%%sql\n",
    "SELECT Customer, SUM(\"Payload mass\") as Total_Payload_Carried\n",
    "FROM SPACEXTBL\n",
    "GROUP BY Customer\n",
    "HAVING Customer='NASA (CRS)';"
   ]
  },
  {
   "cell_type": "markdown",
   "id": "9c958522",
   "metadata": {},
   "source": [
    "### Task 4\n",
    "\n",
    "##### Display average payload mass carried by booster version F9 v1.1"
   ]
  },
  {
   "cell_type": "code",
   "execution_count": 13,
   "id": "c642f4bd",
   "metadata": {},
   "outputs": [
    {
     "name": "stdout",
     "output_type": "stream",
     "text": [
      " * sqlite:///datasets/SpaceXDB.db\n",
      "Done.\n"
     ]
    },
    {
     "data": {
      "text/html": [
       "<table>\n",
       "    <tr>\n",
       "        <th>Avg_Payload_Mass</th>\n",
       "    </tr>\n",
       "    <tr>\n",
       "        <td>2534.6666666666665</td>\n",
       "    </tr>\n",
       "</table>"
      ],
      "text/plain": [
       "[(2534.6666666666665,)]"
      ]
     },
     "execution_count": 13,
     "metadata": {},
     "output_type": "execute_result"
    }
   ],
   "source": [
    "%%sql\n",
    "WITH Boosters AS (\n",
    "    SELECT \"Version Booster\", \"Payload mass\" \n",
    "    FROM SPACEXTBL \n",
    "    WHERE \"Version Booster\"\n",
    "    LIKE 'F9 v1.1%'\n",
    ")\n",
    "\n",
    "SELECT AVG(\"Payload mass\") as Avg_Payload_Mass\n",
    "FROM Boosters;"
   ]
  },
  {
   "cell_type": "markdown",
   "id": "4294a429",
   "metadata": {},
   "source": [
    "### Task 5\n",
    "\n",
    "##### List the date when the first succesful landing outcome in ground pad was acheived.\n",
    "\n",
    "*Hint:Use min function*"
   ]
  },
  {
   "cell_type": "code",
   "execution_count": 15,
   "id": "6cd7aad8",
   "metadata": {},
   "outputs": [
    {
     "name": "stdout",
     "output_type": "stream",
     "text": [
      " * sqlite:///datasets/SpaceXDB.db\n",
      "Done.\n"
     ]
    },
    {
     "data": {
      "text/html": [
       "<table>\n",
       "    <tr>\n",
       "        <th>First_Success_Ground_Pad</th>\n",
       "    </tr>\n",
       "    <tr>\n",
       "        <td>None</td>\n",
       "    </tr>\n",
       "</table>"
      ],
      "text/plain": [
       "[(None,)]"
      ]
     },
     "execution_count": 15,
     "metadata": {},
     "output_type": "execute_result"
    }
   ],
   "source": [
    "%%sql\n",
    "SELECT MIN(Date) AS First_Success_Ground_Pad\n",
    "FROM SPACEXTBL\n",
    "WHERE \"Booster landing\"=\"Success (ground pad)\";"
   ]
  },
  {
   "cell_type": "code",
   "execution_count": null,
   "id": "391b026b",
   "metadata": {},
   "outputs": [],
   "source": []
  }
 ],
 "metadata": {
  "kernelspec": {
   "display_name": "Python 3 (ipykernel)",
   "language": "python",
   "name": "python3"
  },
  "language_info": {
   "codemirror_mode": {
    "name": "ipython",
    "version": 3
   },
   "file_extension": ".py",
   "mimetype": "text/x-python",
   "name": "python",
   "nbconvert_exporter": "python",
   "pygments_lexer": "ipython3",
   "version": "3.9.10"
  }
 },
 "nbformat": 4,
 "nbformat_minor": 5
}
