{
 "cells": [
  {
   "cell_type": "markdown",
   "id": "d35a37eb",
   "metadata": {},
   "source": [
    "# Introduction\n",
    "\n",
    "In this section, I'll be performing some exploratory data analysis on the data on the Space X Launches that I scraped from Wikipedia. The data analysis will be done with SQL this time. To use SQL to query the data, I will connect to a DB file I created and then load the CSV file into the database as a new table using Pandas.\n",
    "\n",
    "## Setting Up Environment"
   ]
  },
  {
   "cell_type": "code",
   "execution_count": 1,
   "id": "20c9c1c6",
   "metadata": {},
   "outputs": [],
   "source": [
    "%load_ext sql"
   ]
  },
  {
   "cell_type": "code",
   "execution_count": 2,
   "id": "aa367821",
   "metadata": {},
   "outputs": [],
   "source": [
    "import sqlite3\n",
    "import csv\n",
    "import pandas as pd\n",
    "import numpy as np\n",
    "\n",
    "con = sqlite3.connect(\"datasets/SpaceXDB.db\")\n",
    "cur = con.cursor()"
   ]
  },
  {
   "cell_type": "code",
   "execution_count": 3,
   "id": "6e8859be",
   "metadata": {},
   "outputs": [],
   "source": [
    "%sql sqlite:///datasets/SpaceXDB.db"
   ]
  },
  {
   "cell_type": "code",
   "execution_count": 4,
   "id": "0c336c07",
   "metadata": {},
   "outputs": [
    {
     "data": {
      "text/plain": [
       "121"
      ]
     },
     "execution_count": 4,
     "metadata": {},
     "output_type": "execute_result"
    }
   ],
   "source": [
    "data = 'datasets/launch_data_falcon9_wiki.csv'\n",
    "df = pd.read_csv(data)\n",
    "\n",
    "# load the dataframe into SpaceXDB\n",
    "df.to_sql(\"SPACEXTBL\", con, if_exists='replace', index=False, method=\"multi\")"
   ]
  },
  {
   "cell_type": "markdown",
   "id": "91d8b852",
   "metadata": {},
   "source": [
    "## Querying the Database with SQL\n",
    "\n",
    "Now the database is set up and the table has been loaded in.\n",
    "\n",
    "### Task 1\n",
    "\n",
    "##### Display the names of the unique launch sites  in the space mission."
   ]
  },
  {
   "cell_type": "code",
   "execution_count": 5,
   "id": "ab47f922",
   "metadata": {
    "scrolled": true
   },
   "outputs": [
    {
     "name": "stdout",
     "output_type": "stream",
     "text": [
      " * sqlite:///datasets/SpaceXDB.db\n",
      "Done.\n"
     ]
    },
    {
     "data": {
      "text/html": [
       "<table>\n",
       "    <tr>\n",
       "        <th>Launch site</th>\n",
       "    </tr>\n",
       "    <tr>\n",
       "        <td>CCAFS SLC-40</td>\n",
       "    </tr>\n",
       "    <tr>\n",
       "        <td>VAFB SLC-4E</td>\n",
       "    </tr>\n",
       "    <tr>\n",
       "        <td>Cape Canaveral LC-40</td>\n",
       "    </tr>\n",
       "    <tr>\n",
       "        <td>KSC LC-39A</td>\n",
       "    </tr>\n",
       "    <tr>\n",
       "        <td>Cape Canaveral SLC-40</td>\n",
       "    </tr>\n",
       "    <tr>\n",
       "        <td>CCSFS SLC-40</td>\n",
       "    </tr>\n",
       "</table>"
      ],
      "text/plain": [
       "[('CCAFS SLC-40',),\n",
       " ('VAFB SLC-4E',),\n",
       " ('Cape Canaveral LC-40',),\n",
       " ('KSC LC-39A',),\n",
       " ('Cape Canaveral SLC-40',),\n",
       " ('CCSFS SLC-40',)]"
      ]
     },
     "execution_count": 5,
     "metadata": {},
     "output_type": "execute_result"
    }
   ],
   "source": [
    "%%sql\n",
    "SELECT DISTINCT \"Launch site\"\n",
    "FROM SPACEXTBL;"
   ]
  },
  {
   "cell_type": "markdown",
   "id": "9efb0725",
   "metadata": {},
   "source": [
    "### Task 2\n",
    "\n",
    "##### Display 5 records where launch sites begin with the string 'CCA'"
   ]
  },
  {
   "cell_type": "code",
   "execution_count": 6,
   "id": "086d0a75",
   "metadata": {},
   "outputs": [],
   "source": [
    "# %%sql\n",
    "# SELECT * \n",
    "# FROM SPACEXTBL\n",
    "# WHERE \"Launch site\"\n",
    "# LIKE \"CCA%\"\n",
    "# LIMIT 5;"
   ]
  },
  {
   "cell_type": "markdown",
   "id": "f782ba80",
   "metadata": {},
   "source": [
    "### Task 3\n",
    "\n",
    "##### Display the total payload mass carried by boosters launched by NASA (CRS)"
   ]
  },
  {
   "cell_type": "code",
   "execution_count": 7,
   "id": "df5e468b",
   "metadata": {},
   "outputs": [],
   "source": [
    "# %%sql\n",
    "# SELECT SUM(\"Payload mass\")\n",
    "# FROM SPACEXTBL;"
   ]
  },
  {
   "cell_type": "code",
   "execution_count": null,
   "id": "ac4d3df5",
   "metadata": {},
   "outputs": [],
   "source": []
  }
 ],
 "metadata": {
  "kernelspec": {
   "display_name": "Python 3 (ipykernel)",
   "language": "python",
   "name": "python3"
  },
  "language_info": {
   "codemirror_mode": {
    "name": "ipython",
    "version": 3
   },
   "file_extension": ".py",
   "mimetype": "text/x-python",
   "name": "python",
   "nbconvert_exporter": "python",
   "pygments_lexer": "ipython3",
   "version": "3.9.10"
  }
 },
 "nbformat": 4,
 "nbformat_minor": 5
}
