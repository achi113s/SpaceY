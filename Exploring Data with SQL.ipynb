{
 "cells": [
  {
   "cell_type": "markdown",
   "id": "3e43e213",
   "metadata": {},
   "source": [
    "# Introduction\n",
    "\n",
    "In this section, I'll be performing some exploratory data analysis on the data on the Space X Launches that I scraped from Wikipedia. The data analysis will be done with SQL this time. To use SQL to query the data, I will connect to a DB file I created and then load the CSV file into the database as a new table using Pandas.\n",
    "\n",
    "## Setting Up Environment"
   ]
  },
  {
   "cell_type": "code",
   "execution_count": 1,
   "id": "7a38d713",
   "metadata": {},
   "outputs": [],
   "source": [
    "%load_ext sql"
   ]
  },
  {
   "cell_type": "code",
   "execution_count": 2,
   "id": "263db43b",
   "metadata": {},
   "outputs": [],
   "source": [
    "import sqlite3\n",
    "import csv\n",
    "import pandas as pd\n",
    "import numpy as np\n",
    "\n",
    "con = sqlite3.connect(\"datasets/SpaceXDB.db\")\n",
    "cur = con.cursor()"
   ]
  },
  {
   "cell_type": "code",
   "execution_count": 3,
   "id": "1784cd36",
   "metadata": {},
   "outputs": [],
   "source": [
    "%sql sqlite:///datasets/SpaceXDB.db"
   ]
  },
  {
   "cell_type": "code",
   "execution_count": 4,
   "id": "6523a01d",
   "metadata": {},
   "outputs": [
    {
     "data": {
      "text/plain": [
       "121"
      ]
     },
     "execution_count": 4,
     "metadata": {},
     "output_type": "execute_result"
    }
   ],
   "source": [
    "data = 'datasets/launch_data_falcon9_wiki.csv'\n",
    "df = pd.read_csv(data)\n",
    "\n",
    "# load the dataframe into SpaceXDB\n",
    "df.to_sql(\"SPACEXTBL\", con, if_exists='replace', index=False, method=\"multi\")"
   ]
  },
  {
   "cell_type": "markdown",
   "id": "bd29775a",
   "metadata": {},
   "source": [
    "## Querying the Database with SQL\n",
    "\n",
    "Now the database is set up and the table has been loaded in.\n",
    "\n",
    "### Task 1\n",
    "\n",
    "##### Display the names of the unique launch sites  in the space mission."
   ]
  },
  {
   "cell_type": "code",
   "execution_count": 5,
   "id": "910542e2",
   "metadata": {},
   "outputs": [
    {
     "name": "stdout",
     "output_type": "stream",
     "text": [
      " * sqlite:///datasets/SpaceXDB.db\n",
      "Done.\n"
     ]
    },
    {
     "data": {
      "text/html": [
       "<table>\n",
       "    <tr>\n",
       "        <th>Launch site</th>\n",
       "    </tr>\n",
       "    <tr>\n",
       "        <td>CCAFS</td>\n",
       "    </tr>\n",
       "    <tr>\n",
       "        <td>VAFB</td>\n",
       "    </tr>\n",
       "    <tr>\n",
       "        <td>Cape Canaveral</td>\n",
       "    </tr>\n",
       "    <tr>\n",
       "        <td>KSC</td>\n",
       "    </tr>\n",
       "    <tr>\n",
       "        <td>CCSFS</td>\n",
       "    </tr>\n",
       "</table>"
      ],
      "text/plain": [
       "[('CCAFS',), ('VAFB',), ('Cape Canaveral',), ('KSC',), ('CCSFS',)]"
      ]
     },
     "execution_count": 5,
     "metadata": {},
     "output_type": "execute_result"
    }
   ],
   "source": [
    "%%sql\n",
    "SELECT DISTINCT \"Launch site\"\n",
    "FROM SPACEXTBL;"
   ]
  },
  {
   "cell_type": "markdown",
   "id": "bb494879",
   "metadata": {},
   "source": [
    "### Task 2\n",
    "\n",
    "##### Display 5 records where launch sites begin with the string 'CCA'"
   ]
  },
  {
   "cell_type": "code",
   "execution_count": 6,
   "id": "fe765f85",
   "metadata": {},
   "outputs": [
    {
     "name": "stdout",
     "output_type": "stream",
     "text": [
      " * sqlite:///datasets/SpaceXDB.db\n",
      "Done.\n"
     ]
    },
    {
     "data": {
      "text/html": [
       "<table>\n",
       "    <tr>\n",
       "        <th>Flight No.</th>\n",
       "        <th>Launch site</th>\n",
       "        <th>Payload</th>\n",
       "        <th>Payload mass</th>\n",
       "        <th>Orbit</th>\n",
       "        <th>Customer</th>\n",
       "        <th>Launch outcome</th>\n",
       "        <th>Version Booster</th>\n",
       "        <th>Booster landing</th>\n",
       "        <th>Date</th>\n",
       "        <th>Time</th>\n",
       "    </tr>\n",
       "    <tr>\n",
       "        <td>1</td>\n",
       "        <td>CCAFS</td>\n",
       "        <td>Dragon Spacecraft Qualification Unit</td>\n",
       "        <td>0</td>\n",
       "        <td>LEO</td>\n",
       "        <td>SpaceX</td>\n",
       "        <td>Success</td>\n",
       "        <td>F9 v1.0B0003.1</td>\n",
       "        <td>Failure</td>\n",
       "        <td>4 June 2010</td>\n",
       "        <td>18:45</td>\n",
       "    </tr>\n",
       "    <tr>\n",
       "        <td>2</td>\n",
       "        <td>CCAFS</td>\n",
       "        <td>Dragon</td>\n",
       "        <td>0</td>\n",
       "        <td>LEO</td>\n",
       "        <td>NASA (COTS) NRO</td>\n",
       "        <td>Success</td>\n",
       "        <td>F9 v1.0B0004.1</td>\n",
       "        <td>Failure</td>\n",
       "        <td>8 December 2010</td>\n",
       "        <td>15:43</td>\n",
       "    </tr>\n",
       "    <tr>\n",
       "        <td>3</td>\n",
       "        <td>CCAFS</td>\n",
       "        <td>Dragon</td>\n",
       "        <td>525 </td>\n",
       "        <td>LEO</td>\n",
       "        <td>NASA (COTS)</td>\n",
       "        <td>Success</td>\n",
       "        <td>F9 v1.0B0005.1</td>\n",
       "        <td>No attempt</td>\n",
       "        <td>22 May 2012</td>\n",
       "        <td>07:44</td>\n",
       "    </tr>\n",
       "    <tr>\n",
       "        <td>4</td>\n",
       "        <td>CCAFS</td>\n",
       "        <td>SpaceX CRS-1</td>\n",
       "        <td>4,700 </td>\n",
       "        <td>LEO</td>\n",
       "        <td>NASA (CRS)</td>\n",
       "        <td>Success</td>\n",
       "        <td>F9 v1.0B0006.1</td>\n",
       "        <td>No attempt</td>\n",
       "        <td>8 October 2012</td>\n",
       "        <td>00:35</td>\n",
       "    </tr>\n",
       "    <tr>\n",
       "        <td>5</td>\n",
       "        <td>CCAFS</td>\n",
       "        <td>SpaceX CRS-2</td>\n",
       "        <td>4,877 </td>\n",
       "        <td>LEO</td>\n",
       "        <td>NASA (CRS)</td>\n",
       "        <td>Success</td>\n",
       "        <td>F9 v1.0B0007.1</td>\n",
       "        <td>No attempt</td>\n",
       "        <td>1 March 2013</td>\n",
       "        <td>15:10</td>\n",
       "    </tr>\n",
       "</table>"
      ],
      "text/plain": [
       "[(1, 'CCAFS', 'Dragon Spacecraft Qualification Unit', '0', 'LEO', 'SpaceX', 'Success', 'F9 v1.0B0003.1', 'Failure', '4 June 2010', '18:45'),\n",
       " (2, 'CCAFS', 'Dragon', '0', 'LEO', 'NASA (COTS) NRO', 'Success', 'F9 v1.0B0004.1', 'Failure', '8 December 2010', '15:43'),\n",
       " (3, 'CCAFS', 'Dragon', '525 ', 'LEO', 'NASA (COTS)', 'Success', 'F9 v1.0B0005.1', 'No attempt', '22 May 2012', '07:44'),\n",
       " (4, 'CCAFS', 'SpaceX CRS-1', '4,700 ', 'LEO', 'NASA (CRS)', 'Success', 'F9 v1.0B0006.1', 'No attempt', '8 October 2012', '00:35'),\n",
       " (5, 'CCAFS', 'SpaceX CRS-2', '4,877 ', 'LEO', 'NASA (CRS)', 'Success', 'F9 v1.0B0007.1', 'No attempt', '1 March 2013', '15:10')]"
      ]
     },
     "execution_count": 6,
     "metadata": {},
     "output_type": "execute_result"
    }
   ],
   "source": [
    "%%sql\n",
    "SELECT * \n",
    "FROM SPACEXTBL\n",
    "WHERE \"Launch site\"\n",
    "LIKE \"CCA%\"\n",
    "LIMIT 5;"
   ]
  },
  {
   "cell_type": "markdown",
   "id": "e5100ec5",
   "metadata": {},
   "source": [
    "### Task 3\n",
    "\n",
    "##### Display the total payload mass carried by boosters launched by NASA (CRS)"
   ]
  },
  {
   "cell_type": "code",
   "execution_count": 9,
   "id": "cac09293",
   "metadata": {},
   "outputs": [
    {
     "name": "stdout",
     "output_type": "stream",
     "text": [
      " * sqlite:///datasets/SpaceXDB.db\n",
      "Done.\n"
     ]
    },
    {
     "data": {
      "text/html": [
       "<table>\n",
       "    <tr>\n",
       "        <th>Customer</th>\n",
       "        <th>Total_Payload_Carried</th>\n",
       "    </tr>\n",
       "    <tr>\n",
       "        <td>NASA (CRS)</td>\n",
       "        <td>48.0</td>\n",
       "    </tr>\n",
       "</table>"
      ],
      "text/plain": [
       "[('NASA (CRS)', 48.0)]"
      ]
     },
     "execution_count": 9,
     "metadata": {},
     "output_type": "execute_result"
    }
   ],
   "source": [
    "%%sql\n",
    "SELECT Customer, SUM(\"Payload mass\") as Total_Payload_Carried\n",
    "FROM SPACEXTBL\n",
    "GROUP BY Customer\n",
    "HAVING Customer='NASA (CRS)';"
   ]
  },
  {
   "cell_type": "code",
   "execution_count": null,
   "id": "6011c4d9",
   "metadata": {},
   "outputs": [],
   "source": []
  }
 ],
 "metadata": {
  "kernelspec": {
   "display_name": "Python 3 (ipykernel)",
   "language": "python",
   "name": "python3"
  },
  "language_info": {
   "codemirror_mode": {
    "name": "ipython",
    "version": 3
   },
   "file_extension": ".py",
   "mimetype": "text/x-python",
   "name": "python",
   "nbconvert_exporter": "python",
   "pygments_lexer": "ipython3",
   "version": "3.9.10"
  }
 },
 "nbformat": 4,
 "nbformat_minor": 5
}
